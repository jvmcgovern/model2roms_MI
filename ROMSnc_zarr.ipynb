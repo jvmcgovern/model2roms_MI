{
 "cells": [
  {
   "cell_type": "code",
   "execution_count": null,
   "metadata": {},
   "outputs": [],
   "source": [
    "import xarray as xr\n",
    "import glob\n",
    "from xgcm import Grid\n",
    "import matplotlib.pyplot as plt\n",
    "import cmocean\n",
    "import cartopy.crs as ccrs\n",
    "%pylab inline\n",
    "import warnings\n",
    "warnings.simplefilter('ignore') # filter some warning messages"
   ]
  },
  {
   "cell_type": "code",
   "execution_count": null,
   "metadata": {},
   "outputs": [],
   "source": [
    "in_file = 'roho160_clim_GLORYS_20170115_to_20191130.nc'\n",
    "out_file = 'roho160_clim_GLORYS_20170115_to_20191130_zarr.nc'"
   ]
  },
  {
   "cell_type": "code",
   "execution_count": null,
   "metadata": {},
   "outputs": [],
   "source": [
    "# functions \n",
    "# modified from \n",
    "# https://raphaeldussin.medium.com/modern-python-tools-for-the-roms-ocean-model-bfca8642db01\n",
    "\n",
    "def remove_all_small_variables(ds):\n",
    "    \"\"\" remove all the variables that have less than 3 dimensions\n",
    "    \n",
    "        Parameters:\n",
    "            ds (xarray.Dataset): ROMS dataset\n",
    "    \"\"\"\n",
    "    todrop = ['pm','pn','z_r','z_w','Tcline','theta_s','theta_b'] #,'angle'] # sol: had to select them by hand\n",
    "    for v in todrop:\n",
    "        ds = ds.drop_vars(v)\n",
    "    return ds\n",
    "\n",
    "def select_interior(ds):\n",
    "    \"\"\"\n",
    "    discard \"exterior\" u,v,rho-points to build a symetric grid\n",
    "    \n",
    "        Parameters:\n",
    "            ds (xarray.Dataset): ROMS dataset\n",
    "    \"\"\"\n",
    "    ds = ds.isel(xi_rho=slice(1,-1), eta_rho=slice(1,-1))\n",
    "    if 'xi_v' in ds.dims:\n",
    "        ds = ds.isel(xi_v=slice(1,-1))\n",
    "    if 'eta_u' in ds.dims:\n",
    "        ds = ds.isel(eta_u=slice(1,-1))\n",
    "    return ds\n",
    "\n",
    "def rename_dims(ds):\n",
    "    \"\"\" rename dimensions\n",
    "    \n",
    "        Parameters:\n",
    "            ds (xarray.Dataset): ROMS dataset\n",
    "    \n",
    "    \"\"\"\n",
    "    ds = ds.rename({'xi_rho': 'xh', 'xi_v': 'xh', 'xi_u': 'xq','xi_psi': 'xq',\n",
    "                    'eta_rho': 'yh', 'eta_v': 'yq', 'eta_u': 'yh', 'eta_psi': 'yq',\n",
    "                    'ocean_time': 'time'\n",
    "                    })\n",
    "    return ds\n",
    "\n",
    "def add_coords(ds):\n",
    "    \"\"\" set coordinate variables as xarray coordinates\n",
    "    \n",
    "        Parameters:\n",
    "            ds (xarray.Dataset): ROMS dataset\n",
    "    \"\"\"\n",
    "    ds = ds.set_coords(['Cs_r', 'Cs_w', 'hc', 'h', 'time',\n",
    "                        'lon_rho', 'lon_v', 'lon_u', 'lon_psi',\n",
    "                        'lat_rho', 'lat_v', 'lat_u', 'lat_psi'])\n",
    "    return ds"
   ]
  },
  {
   "cell_type": "code",
   "execution_count": null,
   "metadata": {},
   "outputs": [],
   "source": [
    "# open file \n",
    "ds = xr.open_dataset(in_file)\n",
    "ds = remove_all_small_variables(ds)\n",
    "ds = select_interior(ds)\n",
    "ds = rename_dims(ds)\n",
    "ds = add_coords(ds)\n",
    "ds = ds.chunk({'time': 1}) # zarr\n",
    "# save in zarr format\n",
    "ds.to_zarr(out_file, consolidated=True, mode='w')\n",
    "\n",
    "ds"
   ]
  },
  {
   "cell_type": "code",
   "execution_count": null,
   "metadata": {},
   "outputs": [],
   "source": []
  }
 ],
 "metadata": {
  "kernelspec": {
   "display_name": "Python 3",
   "language": "python",
   "name": "python3"
  },
  "language_info": {
   "codemirror_mode": {
    "name": "ipython",
    "version": 3
   },
   "file_extension": ".py",
   "mimetype": "text/x-python",
   "name": "python",
   "nbconvert_exporter": "python",
   "pygments_lexer": "ipython3",
   "version": "3.7.6"
  }
 },
 "nbformat": 4,
 "nbformat_minor": 4
}
